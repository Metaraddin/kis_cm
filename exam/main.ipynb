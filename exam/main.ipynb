{
 "cells": [
  {
   "cell_type": "markdown",
   "id": "b31a5dab",
   "metadata": {},
   "source": [
    "# Байткод виртуальной машины"
   ]
  },
  {
   "cell_type": "markdown",
   "id": "fe9570b5",
   "metadata": {},
   "source": [
    "С помощью интерпретатора языка Python и модуля dis разберите, что делает приведенный байткод  \n",
    "Решением является:  \n",
    "1. Описание по шагам действия каждой команды с указанием состояния стека\n",
    "2. Демонстрация эквивалентного выражения на Python или другом знакомом языке высокого уровня"
   ]
  },
  {
   "cell_type": "markdown",
   "id": "4e495594",
   "metadata": {},
   "source": [
    "Описание инструкций байт кода:  \n",
    "https://docs.python.org/3/library/dis.html  \n",
    "https://digitology.tech/docs/python_3/library/dis.html  "
   ]
  },
  {
   "cell_type": "code",
   "execution_count": 1,
   "id": "db24a686",
   "metadata": {},
   "outputs": [],
   "source": [
    "import dis"
   ]
  },
  {
   "cell_type": "markdown",
   "id": "856a8ba7",
   "metadata": {},
   "source": [
    "## к30, вариант 1, задача 2\n",
    "\n",
    "      1           0 LOAD_CONST               1 (901)  \n",
    "                  2 LOAD_FAST                2 (e)  \n",
    "                  4 BINARY_XOR  \n",
    "                  6 LOAD_FAST                2 (e)  \n",
    "                  8 BINARY_XOR  \n",
    "                 10 LOAD_FAST                3 (c)  \n",
    "                 12 LOAD_FAST                1 (b)  \n",
    "                 14 BINARY_OR  \n",
    "                 16 LOAD_FAST                1 (b)  \n",
    "                 18 BINARY_OR  \n",
    "                 20 BINARY_XOR  \n",
    "                 22 RETURN_VALUE  \n"
   ]
  },
  {
   "cell_type": "code",
   "execution_count": 2,
   "id": "5a05a18c",
   "metadata": {},
   "outputs": [
    {
     "name": "stdout",
     "output_type": "stream",
     "text": [
      "  1           0 LOAD_CONST               1 (901)\n",
      "              2 LOAD_FAST                2 (e)\n",
      "              4 BINARY_XOR\n",
      "              6 LOAD_FAST                2 (e)\n",
      "              8 BINARY_XOR\n",
      "             10 LOAD_FAST                3 (c)\n",
      "             12 LOAD_FAST                1 (b)\n",
      "             14 BINARY_OR\n",
      "             16 LOAD_FAST                1 (b)\n",
      "             18 BINARY_OR\n",
      "             20 BINARY_XOR\n",
      "             22 RETURN_VALUE\n"
     ]
    }
   ],
   "source": [
    "dis.dis(lambda n1, b, e, c: 901 ^ e ^ e ^ (c | b | b))"
   ]
  },
  {
   "cell_type": "markdown",
   "id": "6580e735",
   "metadata": {},
   "source": [
    "## к30, вариант 2, задача 2\n",
    "\n",
    "      1           0 LOAD_FAST                3 (a)\n",
    "                  2 LOAD_FAST                1 (h)\n",
    "                  4 LOAD_CONST               1 (736)\n",
    "                  6 LOAD_GLOBAL              0 (d)\n",
    "                  8 BINARY_SUBTRACT\n",
    "                 10 LOAD_FAST                3 (a)\n",
    "                 12 BINARY_ADD\n",
    "                 14 BINARY_ADD\n",
    "                 16 LOAD_GLOBAL              1 (e)\n",
    "                 18 BINARY_SUBTRACT\n",
    "                 20 BINARY_AND\n",
    "                 22 LOAD_GLOBAL              2 (b)\n",
    "                 24 BINARY_ADD\n",
    "                 26 LOAD_CONST               2 (330)\n",
    "                 28 BINARY_SUBTRACT\n",
    "                 30 RETURN_VALUE\n"
   ]
  },
  {
   "cell_type": "code",
   "execution_count": 3,
   "id": "03ab1362",
   "metadata": {},
   "outputs": [
    {
     "name": "stdout",
     "output_type": "stream",
     "text": [
      "  1           0 LOAD_FAST                3 (a)\n",
      "              2 LOAD_FAST                1 (h)\n",
      "              4 LOAD_CONST               1 (736)\n",
      "              6 LOAD_GLOBAL              0 (d)\n",
      "              8 BINARY_SUBTRACT\n",
      "             10 LOAD_FAST                3 (a)\n",
      "             12 BINARY_ADD\n",
      "             14 BINARY_ADD\n",
      "             16 LOAD_GLOBAL              1 (e)\n",
      "             18 BINARY_SUBTRACT\n",
      "             20 BINARY_AND\n",
      "             22 LOAD_GLOBAL              2 (b)\n",
      "             24 BINARY_ADD\n",
      "             26 LOAD_CONST               2 (330)\n",
      "             28 BINARY_SUBTRACT\n",
      "             30 RETURN_VALUE\n"
     ]
    }
   ],
   "source": [
    "dis.dis(lambda n1, h, n2, a: (a & (h + (736 - d + a) - e)) + b - 330)"
   ]
  },
  {
   "cell_type": "markdown",
   "id": "72973b8d",
   "metadata": {},
   "source": [
    "## к30, вариант 5, задача 2\n",
    "      1           0 LOAD_FAST                0 (d)\n",
    "                  2 LOAD_GLOBAL              0 (a)\n",
    "                  4 BINARY_AND\n",
    "                  6 LOAD_GLOBAL              1 (b)\n",
    "                  8 LOAD_GLOBAL              2 (f)\n",
    "                 10 LOAD_FAST                1 (c)\n",
    "                 12 BINARY_SUBTRACT\n",
    "                 14 BINARY_XOR\n",
    "                 16 LOAD_GLOBAL              3 (h)\n",
    "                 18 LOAD_CONST               1 (237)\n",
    "                 20 BINARY_AND\n",
    "                 22 BINARY_ADD\n",
    "                 24 BINARY_XOR\n",
    "                 26 RETURN_VALUE\n",
    "\n"
   ]
  },
  {
   "cell_type": "code",
   "execution_count": 4,
   "id": "0d36910b",
   "metadata": {},
   "outputs": [
    {
     "name": "stdout",
     "output_type": "stream",
     "text": [
      "  1           0 LOAD_FAST                0 (d)\n",
      "              2 LOAD_GLOBAL              0 (a)\n",
      "              4 BINARY_AND\n",
      "              6 LOAD_GLOBAL              1 (b)\n",
      "              8 LOAD_GLOBAL              2 (f)\n",
      "             10 LOAD_FAST                1 (c)\n",
      "             12 BINARY_SUBTRACT\n",
      "             14 BINARY_XOR\n",
      "             16 LOAD_GLOBAL              3 (h)\n",
      "             18 LOAD_CONST               1 (237)\n",
      "             20 BINARY_AND\n",
      "             22 BINARY_AND\n",
      "             24 BINARY_XOR\n",
      "             26 RETURN_VALUE\n"
     ]
    }
   ],
   "source": [
    "dis.dis(lambda d, c: (d & a) ^ (b ^ (f - c)) & (h & 237))"
   ]
  },
  {
   "cell_type": "markdown",
   "id": "3e584045",
   "metadata": {},
   "source": [
    "# Набор математических формул LaTeX\n",
    "Изобразите формулу, приведенную ниже. Для набора можно пользоваться онлайн-редактором на сайте MathJax  \n",
    "Решением является:  \n",
    "1. Код формулы на языке LaTeX.\n",
    "2. Демонстрация скриншота с результатом набора.\n",
    "\n",
    "Онлайн редакторы:  \n",
    "https://www.mathjax.org/#demo  \n",
    "https://latex.codecogs.com/legacy/eqneditor/editor.php"
   ]
  },
  {
   "cell_type": "markdown",
   "id": "a06fd864",
   "metadata": {},
   "source": [
    "## к30, вариант 3, задача 2\n",
    "$$\\left[ \\sum_{n=0}^{\\infty}P(n)x^n \\right] = \\left[ \\sum_{n=0}^{\\infty}P(n)x^{2n} \\right] \\left[ \\sum_{n=0}^{\\infty}Q(n)x^n \\right]$$\n",
    "Решение:\n",
    "\n",
    "    \\left[ \\sum_{n=0}^{\\infty}P(n)x^n \\right] = \\left[ \\sum_{n=0}^{\\infty}P(n)x^{2n} \\right] \\left[ \\sum_{n=0}^{\\infty}Q(n)x^n \\right]"
   ]
  },
  {
   "cell_type": "markdown",
   "id": "7064d182",
   "metadata": {},
   "source": [
    "## к30, вариант 4, задача 2\n",
    "$$\\hat{H}(s) = \\lim_{N\\to\\infty}\\int_{-N}^{N}e^{-2\\pi ixs}H(x)dx=\\frac{1}{2}\\left( \\delta(s)-\\frac{i}{\\pi}\\text{p.v.}\\frac{1}{s} \\right)$$\n",
    "Решение:\n",
    "\n",
    "    \\hat{H}(s) = \\lim_{N\\to\\infty}\\int_{-N}^{N}e^{-2\\pi ixs}H(x)dx=\\frac{1}{2}\\left( \\delta(s)-\\frac{i}{\\pi}\\text{p.v.}\\frac{1}{s} \\right)"
   ]
  },
  {
   "cell_type": "markdown",
   "id": "16f8971c",
   "metadata": {},
   "source": [
    "## к30, вариант 7, задача 2\n",
    "$$\\frac{1}{T}\\int_{0}^{T}c(t)dt>r\\rightarrow\\lim_{t\\to+\\infty}x(t)=0$$\n",
    "Решение:\n",
    "\n",
    "    \\frac{1}{T}\\int_{0}^{T}c(t)dt>r\\rightarrow\\lim_{t\\to+\\infty}x(t)=0"
   ]
  },
  {
   "cell_type": "markdown",
   "id": "d15bd2fe",
   "metadata": {},
   "source": [
    "# Работа в командной строке\n",
    "Используется ОС Linux, скрипты создаются для программной оболочки Bash. Онлайн-версии Linux: jslinux или replit (необходимо иметь учетную запись)  \n",
    "Решением является:  \n",
    "1. Скрипт на языке Bash, приведенный в текстовом виде и успешно проверенный с помощью ShellCheck.\n",
    "2. Демонстрация примера работы скрипта с помощью скриншота.\n",
    "\n",
    "https://www.shellcheck.net/  \n",
    "https://bellard.org/jslinux/\n",
    "\n",
    "`chmod +x` чтобы сделать файл исполняемым"
   ]
  },
  {
   "cell_type": "markdown",
   "id": "6557a2ed",
   "metadata": {},
   "source": [
    "## к30, вариант 5, задача 1\n",
    "В файле /etc/passwd хранится список учетных записей (первым значением – логин, третьим – числовой идентификатор)  \n",
    "Написать программу, которая выводит среднее арифметическое всех идентификаторов  \n",
    "\n",
    "Скрипт:\n",
    "```\n",
    "#!/bin/bash\n",
    "awk -F':' '{sum+=$3} END {print sum/NR}' /etc/passwd\n",
    "```\n",
    "Shellcheck:\n",
    "```\n",
    "$ shellcheck myscript\n",
    "No issues detected!\n",
    "```\n",
    "Вывод:\n",
    "```\n",
    "metara@MetaraVM:~/Documents/exam$ ./k30v5t1.sh \n",
    "1488,62\n",
    "```"
   ]
  },
  {
   "cell_type": "markdown",
   "id": "c51716bc",
   "metadata": {},
   "source": [
    "## к30, вариант 6, задача 1\n",
    "Написать программу, которая находит все файлы в данном каталоге с расширением, указанным в качестве аргумента и архивирует все эти файлы в архив tar\n",
    "\n",
    "Тестовая директория:\n",
    "```\n",
    "├── k30v10t1.sh\n",
    "├── k30v5t1.sh\n",
    "├── k30v6t1.sh\n",
    "├── test1\n",
    "│   ├── testfile1.txt\n",
    "│   └── textfile3.txt\n",
    "├── test2\n",
    "│   ├── testfile1.txt\n",
    "│   ├── testfile2.png\n",
    "│   └── test file.txt\n",
    "└── test.sh\n",
    "```\n",
    "\n",
    "Скрипт:\n",
    "```\n",
    "#!/bin/bash\n",
    "find -- * -iname \"*.$1\" | while IFS='' read -r line\n",
    "do\n",
    "\ttar -rvf k30v6t1.tar \"$line\"\n",
    "done\n",
    "```\n",
    "Shellcheck:\n",
    "```\n",
    "$ shellcheck myscript\n",
    "No issues detected!\n",
    "```\n",
    "Вывод:\n",
    "```\n",
    "metara@MetaraVM:~/Documents/exam$ ./k30v6t1.sh txt\n",
    "test1/testfile1.txt\n",
    "test1/textfile3.txt\n",
    "test2/testfile1.txt\n",
    "test2/test file.txt\n",
    "```"
   ]
  },
  {
   "cell_type": "markdown",
   "id": "ea620ba4",
   "metadata": {},
   "source": [
    "## к30, вариант 10, задача 1\n",
    "Написать программу, которая выводит число строк в bash-скрипте, не являющихся комментариями или пустыми строками. Имя файла задается аргументом командной строки  \n",
    "\n",
    "Входные данные:\n",
    "```\n",
    "#!/bin/bash\n",
    "# test\n",
    "echo test\n",
    "echo test\n",
    "\n",
    "echo result 3\n",
    "# test\n",
    "```\n",
    "\n",
    "Скрипт:\n",
    "```\n",
    "#!/bin/bash\n",
    "grep -cvE \"(^#|^$)\" \"$1\"\n",
    "```\n",
    "Shellcheck:\n",
    "```\n",
    "$ shellcheck myscript\n",
    "No issues detected!\n",
    "```\n",
    "Вывод:\n",
    "```\n",
    "metara@MetaraVM:~/Documents/exam$ ./k30v10t1.sh test.sh\n",
    "3\n",
    "```"
   ]
  },
  {
   "cell_type": "markdown",
   "id": "7c9823e7",
   "metadata": {},
   "source": [
    "# Система контроля версий Git\n",
    "С помощью команд эмулятора git, вариант с примерами или вариант с undo, получить состояние проекта, как на картинке.  \n",
    "Решением является:  \n",
    "1. список команд в текстовом виде\n",
    "2. скриншот результата."
   ]
  },
  {
   "cell_type": "markdown",
   "id": "61172008",
   "metadata": {},
   "source": [
    "# Конфигурационные языки\n",
    "Разобрать текстовое представление данных и перевести данные в заданный выходной формат  \n",
    "Решением является:\n",
    "1. Текст в выходном формате.\n",
    "2. Демонстрация корректности преобразованных данных, например, с помощью онлайн-валидаторов форматов.\n",
    "\n",
    "https://git-school.github.io/visualizing-git/#free"
   ]
  },
  {
   "cell_type": "markdown",
   "id": "45508133",
   "metadata": {},
   "source": [
    "## к30, вариант 1, зачада 1\n",
    "![к30, вариант 1, задача 1](./images/k30v1t1.png)\n",
    "Решение:\n",
    "```\n",
    "git commit constrain\n",
    "git checkout -b bruising\n",
    "git commit sitting\n",
    "git commit sixtyfold\n",
    "git checkout -b jab\n",
    "git commit lunchtime\n",
    "git checkout master\n",
    "git commit outage\n",
    "git merge jab\n",
    "git checkout -b founding\n",
    "git commit exemption\n",
    "```"
   ]
  },
  {
   "cell_type": "markdown",
   "id": "23c96d43",
   "metadata": {},
   "source": [
    "## к30, вариант 3, зачада 1\n",
    "![к30, вариант 3, задача 1](./images/k30v3t1.png)\n",
    "Решение:\n",
    "```\n",
    "git checkout -b overjoyed\n",
    "git commit careless\n",
    "git commit yield\n",
    "git checkout -b dosage\n",
    "git commit overdue\n",
    "git commit degraded\n",
    "git commit rush\n",
    "git checkout overjoyed\n",
    "git checkout -b backward\n",
    "git commit cirtus\n",
    "```"
   ]
  },
  {
   "cell_type": "markdown",
   "id": "72474117",
   "metadata": {},
   "source": [
    "## к7, вариант 39, зачада 1\n",
    "![к7, вариант 39, задача 1](./images/k7v39t1.png)\n",
    "Решение:\n",
    "```\n",
    "git branch unwomanly\n",
    "git commit plow\n",
    "git commit boat\n",
    "git branch drop-down\n",
    "git commit enjoyably\n",
    "git commit backlands\n",
    "git branch dipped\n",
    "git checkout drop-down\n",
    "git commit uncork\n",
    "git checkout unwomanly\n",
    "git commit grime\n",
    "git rebase drop-down\n",
    "```"
   ]
  },
  {
   "cell_type": "markdown",
   "id": "6849019b",
   "metadata": {},
   "source": [
    "## к7, вариант 6, зачада 2\n",
    "![к7, вариант 6, задача 2](./images/k7v6t2.png)\n",
    "Решение:\n",
    "```\n",
    "git branch steadfast\n",
    "git commit -m tavern\n",
    "git checkout steadfast\n",
    "git checkout -b kilobyte\n",
    "git commit -m lumping\n",
    "git checkout steadfast\n",
    "git merge master\n",
    "You have performed a fast-forward merge.\n",
    "git merge kilobyte\n",
    "git checkout master\n",
    "git checkout -b handrail\n",
    "git commit -m clinking\n",
    "git commit -m dizzy\n",
    "git checkout kilobyte\n",
    "git merge handrail\n",
    "git checkout handrail\n",
    "git commit -m caregiver\n",
    "git checkout kilobyte\n",
    "git commit -m stash\n",
    "git checkout steadfast\n",
    "git merge kilobyte\n",
    "git checkout handrail\n",
    "```"
   ]
  },
  {
   "cell_type": "code",
   "execution_count": 5,
   "id": "61952490",
   "metadata": {},
   "outputs": [],
   "source": [
    "import dicttoxml\n",
    "import xml.dom.minidom\n",
    "\n",
    "\n",
    "def to_xml(data):\n",
    "    xml_data = dicttoxml.dicttoxml(data)\n",
    "    dom = xml.dom.minidom.parseString(xml_data)\n",
    "    return dom.toprettyxml()"
   ]
  },
  {
   "cell_type": "code",
   "execution_count": 6,
   "id": "93365703",
   "metadata": {},
   "outputs": [],
   "source": [
    "import json\n",
    "\n",
    "\n",
    "def to_json(data):\n",
    "    return json.dumps(data, indent=4)"
   ]
  },
  {
   "cell_type": "code",
   "execution_count": 7,
   "id": "0bfe2db3",
   "metadata": {},
   "outputs": [],
   "source": [
    "def to_jsonnet(data):\n",
    "    return\n",
    "    # TODO"
   ]
  },
  {
   "cell_type": "code",
   "execution_count": 8,
   "id": "a277a901",
   "metadata": {},
   "outputs": [],
   "source": [
    "import yaml\n",
    "    \n",
    "\n",
    "def to_yaml(data):\n",
    "    return yaml.dump(data, Dumper=yaml.Dumper)"
   ]
  },
  {
   "cell_type": "code",
   "execution_count": 9,
   "id": "1100d833",
   "metadata": {},
   "outputs": [],
   "source": [
    "import sexpdata\n",
    "\n",
    "\n",
    "def to_sexp(data):\n",
    "    d = sexpdata.dumps(data, str_as='string', tuple_as='list', true_as='#t', false_as='#f', none_as='none')\n",
    "    \n",
    "    \n",
    "    ind = 0\n",
    "    in_dict = False\n",
    "    result = ''\n",
    "\n",
    "    for i in d.split(' '):\n",
    "        if in_dict:\n",
    "            result += ' '\n",
    "            in_dict = False\n",
    "        else:\n",
    "            result += '\\n' + '    ' * ind\n",
    "            if ':' in i[:2]:\n",
    "                in_dict = True\n",
    "        if i[0] == '(':\n",
    "            ind += 1\n",
    "            result += '(' + '\\n' + '    ' * ind + i[1:]\n",
    "        elif i[-1] == ')':\n",
    "            ind -= 1\n",
    "            result += i[:-1] + '\\n' + '    ' * ind + ')'\n",
    "        else:\n",
    "            result += i\n",
    "    return result\n",
    "    # TODO: крииинж"
   ]
  },
  {
   "cell_type": "markdown",
   "id": "f9998ec0",
   "metadata": {},
   "source": [
    "## к30, вариант 7, задача 1\n",
    "Перевести текстовое описание в формат XML:  \n",
    "```\n",
    "Список, состоящий из: \n",
    "    Логическое значение: False\n",
    "    Словарь, состоящий из: \n",
    "        Ключ \"important\":\n",
    "            Список, состоящий из: \n",
    "                Логическое значение: False\n",
    "                Строка: \"present\"\n",
    "                Логическое значение: False\n",
    "                Число: -160032794\n",
    "                Число с плавающей запятой: 1046976520.3869586\n",
    "                Число: -338325622\n",
    "        Ключ \"though\":\n",
    "            Логическое значение: False\n",
    "        Ключ \"probably\":\n",
    "            Число с плавающей запятой: 459990107.0794139\n",
    "        Ключ \"lost\":\n",
    "            Число с плавающей запятой: 380213303.1942949\n",
    "        Ключ \"treated\":\n",
    "            Строка: \"speak\"\n",
    "        Ключ \"hearing\":\n",
    "            Логическое значение: False\n",
    "    Строка: \"using\"\n",
    "    Число с плавающей запятой: -792082316.7501206\n",
    "    Число: -475921153\n",
    "    Число с плавающей запятой: -1098215464.3465562\n",
    "```"
   ]
  },
  {
   "cell_type": "code",
   "execution_count": 10,
   "id": "86738f56",
   "metadata": {},
   "outputs": [],
   "source": [
    "data = [\n",
    "    False,\n",
    "    {\n",
    "        'important': [\n",
    "            False,\n",
    "            'present',\n",
    "            False,\n",
    "            -160032794,\n",
    "            1046976520.3869586,\n",
    "            -338325622\n",
    "        ],\n",
    "        'though': False,\n",
    "        'probably': 459990107.0794139,\n",
    "        'lost': 380213303.1942949,\n",
    "        'treated': 'speak',\n",
    "        'hearing': False\n",
    "    },\n",
    "    'using',\n",
    "    -792082316.7501206,\n",
    "    -475921153,\n",
    "    -1098215464.3465562\n",
    "]"
   ]
  },
  {
   "cell_type": "code",
   "execution_count": 11,
   "id": "2b4bfe9f",
   "metadata": {},
   "outputs": [
    {
     "name": "stdout",
     "output_type": "stream",
     "text": [
      "<?xml version=\"1.0\" ?>\n",
      "<root>\n",
      "\t<item type=\"bool\">False</item>\n",
      "\t<item type=\"dict\">\n",
      "\t\t<important type=\"list\">\n",
      "\t\t\t<item type=\"bool\">False</item>\n",
      "\t\t\t<item type=\"str\">present</item>\n",
      "\t\t\t<item type=\"bool\">False</item>\n",
      "\t\t\t<item type=\"int\">-160032794</item>\n",
      "\t\t\t<item type=\"float\">1046976520.3869586</item>\n",
      "\t\t\t<item type=\"int\">-338325622</item>\n",
      "\t\t</important>\n",
      "\t\t<though type=\"bool\">false</though>\n",
      "\t\t<probably type=\"float\">459990107.0794139</probably>\n",
      "\t\t<lost type=\"float\">380213303.1942949</lost>\n",
      "\t\t<treated type=\"str\">speak</treated>\n",
      "\t\t<hearing type=\"bool\">false</hearing>\n",
      "\t</item>\n",
      "\t<item type=\"str\">using</item>\n",
      "\t<item type=\"float\">-792082316.7501206</item>\n",
      "\t<item type=\"int\">-475921153</item>\n",
      "\t<item type=\"float\">-1098215464.3465562</item>\n",
      "</root>\n",
      "\n"
     ]
    }
   ],
   "source": [
    "print(to_xml(data))"
   ]
  },
  {
   "cell_type": "code",
   "execution_count": 12,
   "id": "73cd2df4",
   "metadata": {},
   "outputs": [
    {
     "name": "stdout",
     "output_type": "stream",
     "text": [
      "[\n",
      "    false,\n",
      "    {\n",
      "        \"important\": [\n",
      "            false,\n",
      "            \"present\",\n",
      "            false,\n",
      "            -160032794,\n",
      "            1046976520.3869586,\n",
      "            -338325622\n",
      "        ],\n",
      "        \"though\": false,\n",
      "        \"probably\": 459990107.0794139,\n",
      "        \"lost\": 380213303.1942949,\n",
      "        \"treated\": \"speak\",\n",
      "        \"hearing\": false\n",
      "    },\n",
      "    \"using\",\n",
      "    -792082316.7501206,\n",
      "    -475921153,\n",
      "    -1098215464.3465562\n",
      "]\n"
     ]
    }
   ],
   "source": [
    "print(to_json(data))"
   ]
  },
  {
   "cell_type": "code",
   "execution_count": 13,
   "id": "8c3fbed5",
   "metadata": {},
   "outputs": [
    {
     "name": "stdout",
     "output_type": "stream",
     "text": [
      "- false\n",
      "- hearing: false\n",
      "  important:\n",
      "  - false\n",
      "  - present\n",
      "  - false\n",
      "  - -160032794\n",
      "  - 1046976520.3869586\n",
      "  - -338325622\n",
      "  lost: 380213303.1942949\n",
      "  probably: 459990107.0794139\n",
      "  though: false\n",
      "  treated: speak\n",
      "- using\n",
      "- -792082316.7501206\n",
      "- -475921153\n",
      "- -1098215464.3465562\n",
      "\n"
     ]
    }
   ],
   "source": [
    "print(to_yaml(data))"
   ]
  },
  {
   "cell_type": "code",
   "execution_count": 14,
   "id": "54893525",
   "metadata": {},
   "outputs": [
    {
     "name": "stdout",
     "output_type": "stream",
     "text": [
      "\n",
      "(\n",
      "    #f\n",
      "    (\n",
      "        :important (\n",
      "            #f\n",
      "            \"present\"\n",
      "            #f\n",
      "            -160032794\n",
      "            1046976520.3869586\n",
      "            -338325622\n",
      "        )\n",
      "        :though #f\n",
      "        :probably 459990107.0794139\n",
      "        :lost 380213303.1942949\n",
      "        :treated \"speak\"\n",
      "        :hearing #f\n",
      "    )\n",
      "    \"using\"\n",
      "    -792082316.7501206\n",
      "    -475921153\n",
      "    -1098215464.3465562\n",
      ")\n"
     ]
    }
   ],
   "source": [
    "print(to_sexp(data))"
   ]
  }
 ],
 "metadata": {
  "kernelspec": {
   "display_name": "Python 3 (ipykernel)",
   "language": "python",
   "name": "python3"
  },
  "language_info": {
   "codemirror_mode": {
    "name": "ipython",
    "version": 3
   },
   "file_extension": ".py",
   "mimetype": "text/x-python",
   "name": "python",
   "nbconvert_exporter": "python",
   "pygments_lexer": "ipython3",
   "version": "3.10.6"
  }
 },
 "nbformat": 4,
 "nbformat_minor": 5
}

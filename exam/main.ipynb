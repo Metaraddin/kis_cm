{
 "cells": [
  {
   "cell_type": "code",
   "execution_count": 3,
   "id": "e0a486ff",
   "metadata": {},
   "outputs": [],
   "source": [
    "import dis"
   ]
  },
  {
   "cell_type": "markdown",
   "id": "b31a5dab",
   "metadata": {},
   "source": [
    "# Байткод виртуальной машины"
   ]
  },
  {
   "cell_type": "markdown",
   "id": "fe9570b5",
   "metadata": {},
   "source": [
    "С помощью интерпретатора языка Python и модуля dis разберите, что делает приведенный байткод  \n",
    "Решением является:  \n",
    "1. Описание по шагам действия каждой команды с указанием состояния стека\n",
    "2. Демонстрация эквивалентного выражения на Python или другом знакомом языке высокого уровня"
   ]
  },
  {
   "cell_type": "markdown",
   "id": "4e495594",
   "metadata": {},
   "source": [
    "Описание инструкций байт кода:  \n",
    "https://docs.python.org/3/library/dis.html  \n",
    "https://digitology.tech/docs/python_3/library/dis.html  "
   ]
  },
  {
   "cell_type": "markdown",
   "id": "856a8ba7",
   "metadata": {},
   "source": [
    "## к30, вариант 1, задача 2\n",
    "\n",
    "      1           0 LOAD_CONST               1 (901)  \n",
    "                  2 LOAD_FAST                2 (e)  \n",
    "                  4 BINARY_XOR  \n",
    "                  6 LOAD_FAST                2 (e)  \n",
    "                  8 BINARY_XOR  \n",
    "                 10 LOAD_FAST                3 (c)  \n",
    "                 12 LOAD_FAST                1 (b)  \n",
    "                 14 BINARY_OR  \n",
    "                 16 LOAD_FAST                1 (b)  \n",
    "                 18 BINARY_OR  \n",
    "                 20 BINARY_XOR  \n",
    "                 22 RETURN_VALUE  \n"
   ]
  },
  {
   "cell_type": "code",
   "execution_count": 6,
   "id": "5a05a18c",
   "metadata": {},
   "outputs": [
    {
     "name": "stdout",
     "output_type": "stream",
     "text": [
      "  1           0 LOAD_CONST               1 (901)\n",
      "              2 LOAD_FAST                2 (e)\n",
      "              4 BINARY_XOR\n",
      "              6 LOAD_FAST                2 (e)\n",
      "              8 BINARY_XOR\n",
      "             10 LOAD_FAST                3 (c)\n",
      "             12 LOAD_FAST                1 (b)\n",
      "             14 BINARY_OR\n",
      "             16 LOAD_FAST                1 (b)\n",
      "             18 BINARY_OR\n",
      "             20 BINARY_XOR\n",
      "             22 RETURN_VALUE\n"
     ]
    }
   ],
   "source": [
    "dis.dis(lambda n1, b, e, c: 901 ^ e ^ e ^ (c | b | b))"
   ]
  },
  {
   "cell_type": "markdown",
   "id": "6580e735",
   "metadata": {},
   "source": [
    "## к30, вариант 2, задача 2\n",
    "\n",
    "      1           0 LOAD_FAST                3 (a)\n",
    "                  2 LOAD_FAST                1 (h)\n",
    "                  4 LOAD_CONST               1 (736)\n",
    "                  6 LOAD_GLOBAL              0 (d)\n",
    "                  8 BINARY_SUBTRACT\n",
    "                 10 LOAD_FAST                3 (a)\n",
    "                 12 BINARY_ADD\n",
    "                 14 BINARY_ADD\n",
    "                 16 LOAD_GLOBAL              1 (e)\n",
    "                 18 BINARY_SUBTRACT\n",
    "                 20 BINARY_AND\n",
    "                 22 LOAD_GLOBAL              2 (b)\n",
    "                 24 BINARY_ADD\n",
    "                 26 LOAD_CONST               2 (330)\n",
    "                 28 BINARY_SUBTRACT\n",
    "                 30 RETURN_VALUE\n"
   ]
  },
  {
   "cell_type": "code",
   "execution_count": 8,
   "id": "03ab1362",
   "metadata": {},
   "outputs": [
    {
     "name": "stdout",
     "output_type": "stream",
     "text": [
      "  1           0 LOAD_FAST                3 (a)\n",
      "              2 LOAD_FAST                1 (h)\n",
      "              4 LOAD_CONST               1 (736)\n",
      "              6 LOAD_GLOBAL              0 (d)\n",
      "              8 BINARY_SUBTRACT\n",
      "             10 LOAD_FAST                3 (a)\n",
      "             12 BINARY_ADD\n",
      "             14 BINARY_ADD\n",
      "             16 LOAD_GLOBAL              1 (e)\n",
      "             18 BINARY_SUBTRACT\n",
      "             20 BINARY_AND\n",
      "             22 LOAD_GLOBAL              2 (b)\n",
      "             24 BINARY_ADD\n",
      "             26 LOAD_CONST               2 (330)\n",
      "             28 BINARY_SUBTRACT\n",
      "             30 RETURN_VALUE\n"
     ]
    }
   ],
   "source": [
    "dis.dis(lambda n1, h, n2, a: (a & (h + (736 - d + a) - e)) + b - 330)"
   ]
  },
  {
   "cell_type": "markdown",
   "id": "72973b8d",
   "metadata": {},
   "source": [
    "## к30, вариант 5, задача 2\n",
    "      1           0 LOAD_FAST                0 (d)\n",
    "                  2 LOAD_GLOBAL              0 (a)\n",
    "                  4 BINARY_AND\n",
    "                  6 LOAD_GLOBAL              1 (b)\n",
    "                  8 LOAD_GLOBAL              2 (f)\n",
    "                 10 LOAD_FAST                1 (c)\n",
    "                 12 BINARY_SUBTRACT\n",
    "                 14 BINARY_XOR\n",
    "                 16 LOAD_GLOBAL              3 (h)\n",
    "                 18 LOAD_CONST               1 (237)\n",
    "                 20 BINARY_AND\n",
    "                 22 BINARY_ADD\n",
    "                 24 BINARY_XOR\n",
    "                 26 RETURN_VALUE\n",
    "\n"
   ]
  },
  {
   "cell_type": "code",
   "execution_count": 9,
   "id": "0d36910b",
   "metadata": {},
   "outputs": [
    {
     "name": "stdout",
     "output_type": "stream",
     "text": [
      "  1           0 LOAD_FAST                0 (d)\n",
      "              2 LOAD_GLOBAL              0 (a)\n",
      "              4 BINARY_AND\n",
      "              6 LOAD_GLOBAL              1 (b)\n",
      "              8 LOAD_GLOBAL              2 (f)\n",
      "             10 LOAD_FAST                1 (c)\n",
      "             12 BINARY_SUBTRACT\n",
      "             14 BINARY_XOR\n",
      "             16 LOAD_GLOBAL              3 (h)\n",
      "             18 LOAD_CONST               1 (237)\n",
      "             20 BINARY_AND\n",
      "             22 BINARY_AND\n",
      "             24 BINARY_XOR\n",
      "             26 RETURN_VALUE\n"
     ]
    }
   ],
   "source": [
    "dis.dis(lambda d, c: (d & a) ^ (b ^ (f - c)) & (h & 237))"
   ]
  },
  {
   "cell_type": "markdown",
   "id": "3e584045",
   "metadata": {},
   "source": [
    "# Набор математических формул LaTeX\n",
    "Изобразите формулу, приведенную ниже. Для набора можно пользоваться онлайн-редактором на сайте MathJax  \n",
    "Решением является:  \n",
    "1. Код формулы на языке LaTeX.\n",
    "2. Демонстрация скриншота с результатом набора.\n",
    "\n",
    "Онлайн редакторы:\n",
    "https://www.mathjax.org/#demo\n",
    "https://latex.codecogs.com/legacy/eqneditor/editor.php"
   ]
  },
  {
   "cell_type": "markdown",
   "id": "a06fd864",
   "metadata": {},
   "source": [
    "## к30, вариант 3, задача 2\n",
    "$$\\left[ \\sum_{n=0}^{\\infty}P(n)x^n \\right] = \\left[ \\sum_{n=0}^{\\infty}P(n)x^{2n} \\right] \\left[ \\sum_{n=0}^{\\infty}Q(n)x^n \\right]$$\n",
    "\n",
    "    \\left[ \\sum_{n=0}^{\\infty}P(n)x^n \\right] = \\left[ \\sum_{n=0}^{\\infty}P(n)x^{2n} \\right] \\left[ \\sum_{n=0}^{\\infty}Q(n)x^n \\right]"
   ]
  },
  {
   "cell_type": "markdown",
   "id": "7064d182",
   "metadata": {},
   "source": [
    "## к30, вариант 4, задача 2\n",
    "$$\\hat{H}(s) = \\lim_{N\\to\\infty}\\int_{-N}^{N}e^{-2\\pi ixs}H(x)dx=\\frac{1}{2}\\left( \\delta(s)-\\frac{i}{\\pi}\\text{p.v.}\\frac{1}{s} \\right)$$\n",
    "\n",
    "    \\hat{H}(s) = \\lim_{N\\to\\infty}\\int_{-N}^{N}e^{-2\\pi ixs}H(x)dx=\\frac{1}{2}\\left( \\delta(s)-\\frac{i}{\\pi}\\text{p.v.}\\frac{1}{s} \\right)"
   ]
  },
  {
   "cell_type": "markdown",
   "id": "16f8971c",
   "metadata": {},
   "source": [
    "## к30, вариант 7, задача 2\n",
    "$$\\frac{1}{T}\\int_{0}^{T}c(t)dt>r\\rightarrow\\lim_{t\\to+\\infty}x(t)=0$$\n",
    "\n",
    "    \\frac{1}{T}\\int_{0}^{T}c(t)dt>r\\rightarrow\\lim_{t\\to+\\infty}x(t)=0"
   ]
  },
  {
   "cell_type": "markdown",
   "id": "0e1e191a",
   "metadata": {},
   "source": [
    "# Работа в командной строке\n",
    "Используется ОС Linux, скрипты создаются для программной оболочки Bash. Онлайн-версии Linux: jslinux или replit (необходимо иметь учетную запись)  \n",
    "Решением является:  \n",
    "1. Скрипт на языке Bash, приведенный в текстовом виде и успешно проверенный с помощью ShellCheck.\n",
    "2. Демонстрация примера работы скрипта с помощью скриншота.\n",
    "\n",
    "https://www.shellcheck.net/  \n",
    "https://bellard.org/jslinux/\n",
    "\n",
    "`chmod +x` чтобы сделать файл исполняемым"
   ]
  },
  {
   "cell_type": "markdown",
   "id": "984bd9f6",
   "metadata": {},
   "source": [
    "## к30, вариант 5, задача 1\n",
    "В файле /etc/passwd хранится список учетных записей (первым значением – логин, третьим – числовой идентификатор)  \n",
    "Написать программу, которая выводит среднее арифметическое всех идентификаторов  \n",
    "\n",
    "Скрипт (1-ый вариант решения):\n",
    "```\n",
    "#!/bin/bash\n",
    "echo `awk -F':' '{sum+=$3} END {print sum/NR}' /etc/passwd`\n",
    "```\n",
    "Скрипт (2-ой вариант решения):\n",
    "```\n",
    "#!/bin/bash\n",
    "echo `awk -F':' 'BEGIN {coun=0; sum=0} {coun++; sum+=$3} END {print sum/coun}' /etc/passwd`\n",
    "```"
   ]
  },
  {
   "cell_type": "markdown",
   "id": "5ce85e55",
   "metadata": {},
   "source": [
    "## к30, вариант 6, задача 1\n",
    "Написать программу, которая находит все файлы в данном каталоге с расширением, указанным в качестве аргумента и архивирует все эти файлы в архив tar\n",
    "\n",
    "Тестовая директория:\n",
    "```\n",
    "├── test1\n",
    "│   ├── testfile1.txt\n",
    "│   └── textfile3.txt\n",
    "└── test2\n",
    "    ├── testfile1.txt\n",
    "    └── testfile2.png\n",
    "```\n",
    "\n",
    "Скрипт:\n",
    "```\n",
    "#!/bin/bash\n",
    "tar -cf archive.tar `find -iname *.$1`\n",
    "```"
   ]
  },
  {
   "cell_type": "markdown",
   "id": "2eb027de",
   "metadata": {},
   "source": [
    "## к30, вариант 10, задача 1\n",
    "Написать программу, которая выводит число строк в bash-скрипте, не являющихся комментариями или пустыми строками. Имя файла задается аргументом командной строки  \n",
    "\n",
    "Тестовый скрипт:\n",
    "```\n",
    "#!/bin/bash\n",
    "# test\n",
    "echo test\n",
    "echo test\n",
    "\n",
    "echo result 3\n",
    "# test\n",
    "```\n",
    "\n",
    "Скрипт:\n",
    "```\n",
    "#!/bin/bash\n",
    "echo `grep -vE \"(^#|^$)\" $1 | wc -l`\n",
    "```"
   ]
  }
 ],
 "metadata": {
  "kernelspec": {
   "display_name": "Python 3 (ipykernel)",
   "language": "python",
   "name": "python3"
  },
  "language_info": {
   "codemirror_mode": {
    "name": "ipython",
    "version": 3
   },
   "file_extension": ".py",
   "mimetype": "text/x-python",
   "name": "python",
   "nbconvert_exporter": "python",
   "pygments_lexer": "ipython3",
   "version": "3.10.6"
  }
 },
 "nbformat": 4,
 "nbformat_minor": 5
}

{
 "cells": [
  {
   "cell_type": "code",
   "execution_count": 1,
   "id": "e0a486ff",
   "metadata": {},
   "outputs": [],
   "source": [
    "import dis"
   ]
  },
  {
   "cell_type": "markdown",
   "id": "b4a83cc2",
   "metadata": {},
   "source": [
    "# Байткод виртуальной машины"
   ]
  },
  {
   "cell_type": "markdown",
   "id": "b67f4d02",
   "metadata": {},
   "source": [
    "С помощью интерпретатора языка Python и модуля dis разберите, что делает приведенный байткод  \n",
    "Решением является:  \n",
    "1. Описание по шагам действия каждой команды с указанием состояния стека\n",
    "2. Демонстрация эквивалентного выражения на Python или другом знакомом языке высокого уровня"
   ]
  },
  {
   "cell_type": "markdown",
   "id": "97654071",
   "metadata": {},
   "source": [
    "Описание инструкций байт кода:  \n",
    "https://docs.python.org/3/library/dis.html  \n",
    "https://digitology.tech/docs/python_3/library/dis.html  "
   ]
  },
  {
   "cell_type": "markdown",
   "id": "d222e64d",
   "metadata": {},
   "source": [
    "## к30, вариант 1, задача 2\n",
    "\n",
    "      1           0 LOAD_CONST               1 (901)  \n",
    "                  2 LOAD_FAST                2 (e)  \n",
    "                  4 BINARY_XOR  \n",
    "                  6 LOAD_FAST                2 (e)  \n",
    "                  8 BINARY_XOR  \n",
    "                 10 LOAD_FAST                3 (c)  \n",
    "                 12 LOAD_FAST                1 (b)  \n",
    "                 14 BINARY_OR  \n",
    "                 16 LOAD_FAST                1 (b)  \n",
    "                 18 BINARY_OR  \n",
    "                 20 BINARY_XOR  \n",
    "                 22 RETURN_VALUE  \n"
   ]
  },
  {
   "cell_type": "code",
   "execution_count": 157,
   "id": "d7cc4240",
   "metadata": {},
   "outputs": [
    {
     "name": "stdout",
     "output_type": "stream",
     "text": [
      "  2           0 LOAD_CONST               1 (901)\n",
      "              2 LOAD_FAST                2 (e)\n",
      "              4 BINARY_XOR\n",
      "              6 LOAD_FAST                2 (e)\n",
      "              8 BINARY_XOR\n",
      "             10 LOAD_FAST                3 (c)\n",
      "             12 LOAD_FAST                1 (b)\n",
      "             14 BINARY_OR\n",
      "             16 LOAD_FAST                1 (b)\n",
      "             18 BINARY_OR\n",
      "             20 BINARY_XOR\n",
      "             22 RETURN_VALUE\n"
     ]
    }
   ],
   "source": [
    "def f(name1, b, e, c):\n",
    "    return 901 ^ e ^ e ^ (c | b | b)\n",
    "    \n",
    "\n",
    "dis.dis(f)"
   ]
  },
  {
   "cell_type": "markdown",
   "id": "c0d7cfc3",
   "metadata": {},
   "source": [
    "## к30, вариант 2, задача 2\n",
    "\n",
    "      1           0 LOAD_FAST                3 (a)\n",
    "                  2 LOAD_FAST                1 (h)\n",
    "                  4 LOAD_CONST               1 (736)\n",
    "                  6 LOAD_GLOBAL              0 (d)\n",
    "                  8 BINARY_SUBTRACT\n",
    "                 10 LOAD_FAST                3 (a)\n",
    "                 12 BINARY_ADD\n",
    "                 14 BINARY_ADD\n",
    "                 16 LOAD_GLOBAL              1 (e)\n",
    "                 18 BINARY_SUBTRACT\n",
    "                 20 BINARY_AND\n",
    "                 22 LOAD_GLOBAL              2 (b)\n",
    "                 24 BINARY_ADD\n",
    "                 26 LOAD_CONST               2 (330)\n",
    "                 28 BINARY_SUBTRACT\n",
    "                 30 RETURN_VALUE\n"
   ]
  },
  {
   "cell_type": "code",
   "execution_count": 158,
   "id": "032e9c7c",
   "metadata": {},
   "outputs": [
    {
     "name": "stdout",
     "output_type": "stream",
     "text": [
      "  2           0 LOAD_FAST                3 (a)\n",
      "              2 LOAD_FAST                1 (h)\n",
      "              4 LOAD_CONST               1 (736)\n",
      "              6 LOAD_GLOBAL              0 (d)\n",
      "              8 BINARY_SUBTRACT\n",
      "             10 LOAD_FAST                3 (a)\n",
      "             12 BINARY_ADD\n",
      "             14 BINARY_ADD\n",
      "             16 LOAD_GLOBAL              1 (e)\n",
      "             18 BINARY_SUBTRACT\n",
      "             20 BINARY_AND\n",
      "             22 LOAD_GLOBAL              2 (b)\n",
      "             24 BINARY_ADD\n",
      "             26 LOAD_CONST               2 (330)\n",
      "             28 BINARY_SUBTRACT\n",
      "             30 RETURN_VALUE\n"
     ]
    }
   ],
   "source": [
    "def f(name1, h, name2, a):\n",
    "    return (a & (h + (736 - d + a) - e)) + b - 330\n",
    "\n",
    "dis.dis(f)"
   ]
  },
  {
   "cell_type": "markdown",
   "id": "4957c42b",
   "metadata": {},
   "source": [
    "## к30, вариант 5, задача 2\n",
    "      1           0 LOAD_FAST                0 (d)\n",
    "                  2 LOAD_GLOBAL              0 (a)\n",
    "                  4 BINARY_AND\n",
    "                  6 LOAD_GLOBAL              1 (b)\n",
    "                  8 LOAD_GLOBAL              2 (f)\n",
    "                 10 LOAD_FAST                1 (c)\n",
    "                 12 BINARY_SUBTRACT\n",
    "                 14 BINARY_XOR\n",
    "                 16 LOAD_GLOBAL              3 (h)\n",
    "                 18 LOAD_CONST               1 (237)\n",
    "                 20 BINARY_AND\n",
    "                 22 BINARY_ADD\n",
    "                 24 BINARY_XOR\n",
    "                 26 RETURN_VALUE\n",
    "\n"
   ]
  },
  {
   "cell_type": "code",
   "execution_count": 162,
   "id": "84db2414",
   "metadata": {},
   "outputs": [
    {
     "name": "stdout",
     "output_type": "stream",
     "text": [
      "  2           0 LOAD_FAST                0 (d)\n",
      "              2 LOAD_GLOBAL              0 (a)\n",
      "              4 BINARY_AND\n",
      "              6 LOAD_GLOBAL              1 (b)\n",
      "              8 LOAD_GLOBAL              2 (f)\n",
      "             10 LOAD_FAST                1 (c)\n",
      "             12 BINARY_SUBTRACT\n",
      "             14 BINARY_XOR\n",
      "             16 BINARY_ADD\n",
      "             18 LOAD_GLOBAL              3 (h)\n",
      "             20 LOAD_CONST               1 (237)\n",
      "             22 BINARY_AND\n",
      "             24 BINARY_AND\n",
      "             26 RETURN_VALUE\n"
     ]
    }
   ],
   "source": [
    "def f(d, c):\n",
    "    return (d & a) (b ^ (f - c)) (h & 237)\n",
    "\n",
    "dis.dis(f)"
   ]
  },
  {
   "cell_type": "code",
   "execution_count": null,
   "id": "cca43109",
   "metadata": {},
   "outputs": [],
   "source": []
  }
 ],
 "metadata": {
  "kernelspec": {
   "display_name": "Python 3 (ipykernel)",
   "language": "python",
   "name": "python3"
  },
  "language_info": {
   "codemirror_mode": {
    "name": "ipython",
    "version": 3
   },
   "file_extension": ".py",
   "mimetype": "text/x-python",
   "name": "python",
   "nbconvert_exporter": "python",
   "pygments_lexer": "ipython3",
   "version": "3.10.6"
  }
 },
 "nbformat": 4,
 "nbformat_minor": 5
}
